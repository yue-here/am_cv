{
 "cells": [
  {
   "cell_type": "code",
   "execution_count": 139,
   "metadata": {},
   "outputs": [
    {
     "data": {
      "text/plain": [
       "(200, 500, 1024, 1)"
      ]
     },
     "execution_count": 139,
     "metadata": {},
     "output_type": "execute_result"
    }
   ],
   "source": [
    "# Installed scikit-video (skvideo) and ffmpeg from conda\n",
    "# https://anaconda.org/conda-forge/sk-video\n",
    "# https://anaconda.org/conda-forge/ffmpeg\n",
    "\n",
    "import skvideo.io\n",
    "import matplotlib.pyplot as plt\n",
    "import numpy as np\n",
    "from scipy import ndimage as ndi\n",
    "\n",
    "from skimage.measure import label, regionprops\n",
    "from skimage import morphology\n",
    "from skimage.color import label2rgb\n",
    "from skimage.exposure import histogram\n",
    "from skimage.feature import canny\n",
    "from skimage.filters import sobel, threshold_otsu, threshold_local\n",
    "from skimage.segmentation import watershed\n",
    "\n",
    "from ipywidgets import interact\n",
    "\n",
    "# skvideo can either use vread or vreader\n",
    "# vreader uses a generator (loads frames on-demand to save memory)\n",
    "\n",
    "# If file is avi:\n",
    "file_name = 'laser.mp4'\n",
    "frames = skvideo.io.vread(file_name, as_grey = True)\n",
    "\n",
    "# Check the size of the loaded data\n",
    "frames.shape"
   ]
  },
  {
   "cell_type": "markdown",
   "metadata": {},
   "source": [
    "Inspect the data and perform a background correction"
   ]
  },
  {
   "cell_type": "code",
   "execution_count": 84,
   "metadata": {},
   "outputs": [],
   "source": [
    "def frame_generator(frames, frame_number, background = 19, cropv = (105, 300), croph = (None, None), takelog = True):\n",
    "    image = frames[frame_number].squeeze() + 0.01 # Add 0.01 to avoid zero division\n",
    "    background = frames[background].squeeze() + 0.01\n",
    "    if takelog == True:\n",
    "        image = np.log(image) - np.log(background) # Subtract background\n",
    "    else:\n",
    "        image = image - background\n",
    "    image = image[cropv[0]:cropv[1], croph[0]:croph[1]] # Crop image if necessary\n",
    "    return image"
   ]
  },
  {
   "cell_type": "code",
   "execution_count": 47,
   "metadata": {},
   "outputs": [],
   "source": [
    "def frame_plotter(frames, frame_number, background = 19, cropv = (105, 300), croph = (None, None)):\n",
    "    image = frame_generator(frames, frame_number, background, cropv, croph)\n",
    "\n",
    "    # Plot the image\n",
    "    fig, axes = plt.subplots(1, 1, figsize = (15,10))\n",
    "    im1 = axes.imshow(image)\n",
    "    fig.colorbar(im1, shrink = 0.2)\n",
    "    plt.show()"
   ]
  },
  {
   "cell_type": "markdown",
   "metadata": {},
   "source": [
    "Find a good background frame with interactive plot"
   ]
  },
  {
   "cell_type": "code",
   "execution_count": 48,
   "metadata": {},
   "outputs": [
    {
     "data": {
      "application/vnd.jupyter.widget-view+json": {
       "model_id": "f0854df3f3254f50bc65b8371dac0f5c",
       "version_major": 2,
       "version_minor": 0
      },
      "text/plain": [
       "interactive(children=(IntSlider(value=99, description='frame_number', max=199), IntSlider(value=99, descriptio…"
      ]
     },
     "metadata": {},
     "output_type": "display_data"
    }
   ],
   "source": [
    "@interact\n",
    "def show_frame(frame_number=(0, len(frames)-1, 1), background = (0, len(frames)-1, 1)):\n",
    "    frame_plotter(frames, frame_number, background=background, cropv = (None, None))\n"
   ]
  },
  {
   "cell_type": "markdown",
   "metadata": {},
   "source": [
    "https://scikit-image.org/docs/dev/user_guide/tutorial_segmentation.html reference for some of this code"
   ]
  },
  {
   "cell_type": "markdown",
   "metadata": {},
   "source": [
    "Test to see if thresholding is sufficient to segment"
   ]
  },
  {
   "cell_type": "code",
   "execution_count": 63,
   "metadata": {},
   "outputs": [
    {
     "data": {
      "image/png": "[encoded data removed]",
      "text/plain": [
       "<Figure size 432x288 with 1 Axes>"
      ]
     },
     "metadata": {
      "needs_background": "light"
     },
     "output_type": "display_data"
    }
   ],
   "source": [
    "# Plot the intensity histogram\n",
    "image = frame_generator(frames, 181, background = 19, cropv = (105, 300), croph = (None, None))\n",
    "hist, hist_centers = histogram(image)\n",
    "plt.plot(hist_centers, hist)\n",
    "plt.xlabel('Intensity')\n",
    "plt.show()"
   ]
  },
  {
   "cell_type": "code",
   "execution_count": 73,
   "metadata": {},
   "outputs": [
    {
     "data": {
      "application/vnd.jupyter.widget-view+json": {
       "model_id": "9a3e1eaad75e4855be1d90563d5feb28",
       "version_major": 2,
       "version_minor": 0
      },
      "text/plain": [
       "interactive(children=(FloatSlider(value=-0.09999999999999987, description='th_low', max=0.7, min=-0.7), FloatS…"
      ]
     },
     "metadata": {},
     "output_type": "display_data"
    }
   ],
   "source": [
    "@interact\n",
    "def thresholding(th_low = (-0.7, 0.7, 0.1), th_high = (-0.7, 0.7, 0.1)):\n",
    "    markers = np.zeros_like(image)\n",
    "    markers[image < th_low] = 1\n",
    "    markers[image > th_high] = 2\n",
    "\n",
    "    plt.figure(figsize = (15,10))\n",
    "    plt.imshow(markers)\n",
    "    plt.colorbar(shrink = 0.2)"
   ]
  },
  {
   "cell_type": "markdown",
   "metadata": {},
   "source": [
    "Test edge-based segmentation"
   ]
  },
  {
   "cell_type": "code",
   "execution_count": 100,
   "metadata": {},
   "outputs": [
    {
     "data": {
      "image/png": "[encoded data removed]",
      "text/plain": [
       "<Figure size 432x288 with 1 Axes>"
      ]
     },
     "metadata": {
      "needs_background": "light"
     },
     "output_type": "display_data"
    }
   ],
   "source": [
    "# Generate non-log image\n",
    "image = frame_generator(frames, 181, background = 19, cropv = (105, 300), croph = (None, None), takelog = False)\n",
    "# Plot the intensity histogram\n",
    "hist, hist_centers = histogram(image)\n",
    "plt.plot(hist_centers, hist)\n",
    "plt.xlabel('Intensity')\n",
    "plt.show()"
   ]
  },
  {
   "cell_type": "code",
   "execution_count": 155,
   "metadata": {},
   "outputs": [
    {
     "data": {
      "application/vnd.jupyter.widget-view+json": {
       "model_id": "d366bcd396a2466fa820f94ce53bcb04",
       "version_major": 2,
       "version_minor": 0
      },
      "text/plain": [
       "interactive(children=(IntSlider(value=500, description='factor', max=1000), FloatSlider(value=1.0, description…"
      ]
     },
     "metadata": {},
     "output_type": "display_data"
    }
   ],
   "source": [
    "@interact\n",
    "def canny_detect(factor = (0, 1000, 1), sigma = (0,2,0.1), fill = (0, 1, 1)):\n",
    "    edges = canny(image/factor, sigma = sigma)\n",
    "    if fill:\n",
    "        edges = ndi.binary_fill_holes(edges)\n",
    "    plt.figure(figsize = (15,10))\n",
    "    plt.imshow(edges)\n",
    "    # plt.colorbar(shrink = 0.2)"
   ]
  },
  {
   "cell_type": "markdown",
   "metadata": {},
   "source": [
    "Test gradient-based segmentation\n",
    "Note - there doesn't seem to be clear modality in the histogram."
   ]
  },
  {
   "cell_type": "code",
   "execution_count": 203,
   "metadata": {},
   "outputs": [
    {
     "data": {
      "application/vnd.jupyter.widget-view+json": {
       "model_id": "991580c60d5b42618a3b0369066dc5b4",
       "version_major": 2,
       "version_minor": 0
      },
      "text/plain": [
       "interactive(children=(IntSlider(value=181, description='frame_number', max=199), IntSlider(value=-52, descript…"
      ]
     },
     "metadata": {},
     "output_type": "display_data"
    }
   ],
   "source": [
    "@interact(\n",
    "    frame_number = (0, len(frames)-1, 1), \n",
    "    th_low = (-70, 70, 1), \n",
    "    th_high = (-70, 70, 1), \n",
    "    segmentation = True,\n",
    "    fill = True, \n",
    "    original = True,\n",
    "    opacity = (0, 1, 0.1),\n",
    "    remove_small = True,\n",
    "    min_size = (0, 60, 1))\n",
    "\n",
    "def manual_thresholding(\n",
    "        frame_number = 181, \n",
    "        th_low = -52, \n",
    "        th_high = 12, \n",
    "        segmentation = True, \n",
    "        fill = True, \n",
    "        original = True,\n",
    "        opacity = 0.3,\n",
    "        remove_small = True, \n",
    "        min_size = 37):\n",
    "    image = frame_generator(frames, frame_number, background = 19, cropv = (105, 300), croph = (None, None), takelog = False)\n",
    "    edges = sobel(image)\n",
    "    markers = np.zeros_like(edges)\n",
    "    markers[image < th_low] = 2\n",
    "    markers[image > th_high] = 1\n",
    "    out = markers\n",
    "    if segmentation:\n",
    "        out = watershed(edges, markers)\n",
    "    if fill:\n",
    "        out = ndi.binary_fill_holes(out-1)\n",
    "    if remove_small:\n",
    "        out = morphology.remove_small_objects(out, min_size=min_size)\n",
    "    \n",
    "    plt.figure(figsize = (15,10))\n",
    "    if original:\n",
    "        plt.imshow(image)\n",
    "    plt.imshow(out, alpha = opacity)\n",
    "    plt.colorbar(shrink = 0.2)\n",
    "    # return out"
   ]
  },
  {
   "cell_type": "markdown",
   "metadata": {},
   "source": [
    "Test of local thresholding - as illumination is quite even, this doesn't give much improvement"
   ]
  },
  {
   "cell_type": "code",
   "execution_count": 144,
   "metadata": {},
   "outputs": [
    {
     "data": {
      "application/vnd.jupyter.widget-view+json": {
       "model_id": "60b453c593894fddaed76f76d6da7947",
       "version_major": 2,
       "version_minor": 0
      },
      "text/plain": [
       "interactive(children=(IntSlider(value=181, description='frame_number', max=199), IntSlider(value=31, descripti…"
      ]
     },
     "metadata": {},
     "output_type": "display_data"
    }
   ],
   "source": [
    "@interact(\n",
    "    frame_number = (0, len(frames)-1, 1), \n",
    "    block_size = (1, 99, 2),\n",
    "    offset = (0, 100, 1),\n",
    "    segmentation = True, \n",
    "    fill = True, \n",
    "    original = True,\n",
    "    opacity = (0, 1, 0.1),\n",
    "    remove_small = True,\n",
    "    min_size = (0, 20, 1))\n",
    "\n",
    "def auto_thresholding(\n",
    "        frame_number = 181, \n",
    "        block_size = 31,\n",
    "        offset = 10,\n",
    "        segmentation = True, \n",
    "        fill = True, \n",
    "        original = True,\n",
    "        opacity = 1,\n",
    "        remove_small = True, \n",
    "        min_size = 10):\n",
    "    image = frame_generator(frames, frame_number, background = 19, cropv = (105, 300), croph = (None, None), takelog = False)\n",
    "    markers = np.zeros_like(sobel(image))\n",
    "    local_thresh = threshold_local(image, block_size=block_size, offset=offset)\n",
    "    markers[image < local_thresh] = 2\n",
    "    markers[image > local_thresh] = 1\n",
    "    out = markers\n",
    "    if segmentation:\n",
    "        out = watershed(sobel(image), markers)\n",
    "    if fill:\n",
    "        out = ndi.binary_fill_holes(out-1)\n",
    "    if remove_small:\n",
    "        out = morphology.remove_small_objects(out, min_size=min_size)\n",
    "    \n",
    "    plt.figure(figsize = (15,10))\n",
    "    if original:\n",
    "        plt.imshow(image)\n",
    "    plt.imshow(out, alpha = opacity)\n",
    "    plt.colorbar(shrink = 0.2)\n",
    "    # return out"
   ]
  },
  {
   "cell_type": "markdown",
   "metadata": {},
   "source": [
    "Generate a video of the segmented frames"
   ]
  },
  {
   "cell_type": "code",
   "execution_count": 202,
   "metadata": {},
   "outputs": [
    {
     "data": {
      "text/plain": [
       "<matplotlib.image.AxesImage at 0x7fe8c2e71360>"
      ]
     },
     "execution_count": 202,
     "metadata": {},
     "output_type": "execute_result"
    },
    {
     "data": {
      "image/png": "[encoded data removed]",
      "text/plain": [
       "<Figure size 1080x720 with 2 Axes>"
      ]
     },
     "metadata": {
      "needs_background": "light"
     },
     "output_type": "display_data"
    }
   ],
   "source": [
    "out = manual_thresholding(\n",
    "        frame_number = 181, \n",
    "        th_low = -52, \n",
    "        th_high = 12, \n",
    "        segmentation = True, \n",
    "        fill = True, \n",
    "        original = True,\n",
    "        opacity = 0.3,\n",
    "        remove_small = True, \n",
    "        min_size = 37)\n",
    "\n",
    "plt.imshow(out)"
   ]
  },
  {
   "cell_type": "markdown",
   "metadata": {},
   "source": [
    "# Tracking"
   ]
  },
  {
   "cell_type": "code",
   "execution_count": 197,
   "metadata": {},
   "outputs": [],
   "source": []
  },
  {
   "cell_type": "code",
   "execution_count": null,
   "metadata": {},
   "outputs": [],
   "source": []
  }
 ],
 "metadata": {
  "kernelspec": {
   "display_name": "Python 3.10.4 ('segmentation')",
   "language": "python",
   "name": "python3"
  },
  "language_info": {
   "codemirror_mode": {
    "name": "ipython",
    "version": 3
   },
   "file_extension": ".py",
   "mimetype": "text/x-python",
   "name": "python",
   "nbconvert_exporter": "python",
   "pygments_lexer": "ipython3",
   "version": "3.10.4"
  },
  "vscode": {
   "interpreter": {
    "hash": "ab79cb38620aefccae57b414ada5ad2521092e25572f8624e4093beaa4509e8c"
   }
  }
 },
 "nbformat": 4,
 "nbformat_minor": 4
}
